{
 "cells": [
  {
   "cell_type": "code",
   "execution_count": 1,
   "id": "b5df1fc8",
   "metadata": {},
   "outputs": [
    {
     "data": {
      "text/plain": [
       "34.5"
      ]
     },
     "execution_count": 1,
     "metadata": {},
     "output_type": "execute_result"
    }
   ],
   "source": [
    "#Question 1: What will the following code return?\n",
    "\n",
    "MyList = [12, True, 34.5, 23, 55, \"34hello\"]\n",
    "\n",
    "MyList[2]\n",
    "\n",
    "#1.12   2.True   3.34.5   4.23\n",
    "#answer: 3. 34.5"
   ]
  },
  {
   "cell_type": "code",
   "execution_count": 2,
   "id": "e2151bad",
   "metadata": {},
   "outputs": [],
   "source": [
    "#Question 2: Which of these function calls will create a list of numbers from 2 to 10 (inclusive) in Python 3?\n",
    "\n",
    "#1. list(range(2,10))      2. range(2,10)      3.range(2,11)      4.list(range(2,11))\n",
    "#answer: 4.list(range(2,11))"
   ]
  },
  {
   "cell_type": "code",
   "execution_count": 3,
   "id": "0e438efc",
   "metadata": {},
   "outputs": [
    {
     "data": {
      "text/plain": [
       "['a', 'b', 'c', 'd', 'e', 'f']"
      ]
     },
     "execution_count": 3,
     "metadata": {},
     "output_type": "execute_result"
    }
   ],
   "source": [
    "#Question 3: You have a list:\n",
    "\n",
    "l1 = [20, 'a', 21, 'b', 22, 'c', 23, 'd', 24, 'e', 25, 'f']\n",
    "\n",
    "#Which of the following slices would NOT return the following list?\n",
    "\n",
    "['a', 'b', 'c', 'd', 'e', 'f']\n",
    "\n",
    "#1. I1[1::2]        2. I1[1:12:2]         3. I1[-1:-12:-2]        4. I1[-11::2]\n",
    "#answer: 3. I1[-1:-12:-2] "
   ]
  },
  {
   "cell_type": "code",
   "execution_count": 4,
   "id": "e2c062f0",
   "metadata": {},
   "outputs": [],
   "source": [
    "#Question 4: What is the critical difference between slicing lists and arrays?\n",
    "\n",
    "#1. Slicing a list creates a copy of that list, slicing an array creates two copies of the array every time for safety reasons\n",
    "#2. Slicing a list creates a view (not a copy) of that list,slicing an array creates a copy of that array\n",
    "#3. Slicing a list creates a copy of that list, slicing an array creates a view of that array (not a copy)\n",
    "#4. There is no principal difference\n",
    "\n",
    "#answer: 3. Slicing a list creates a copy of that list, slicing an array creates a view of that array (not a copy)"
   ]
  },
  {
   "cell_type": "code",
   "execution_count": 5,
   "id": "6259f398",
   "metadata": {},
   "outputs": [],
   "source": [
    "#Question 5: Which of the following lines of code is the more general \n",
    "#(NOT specific to the Anaconda distribution) option for installing Python packages onto your machine?\n",
    "\n",
    "#1. conda update conda     2.conda install packagename    3. pip install packagename     4. pip update pip\n",
    "\n",
    "#answer: 3. pip install packagename "
   ]
  }
 ],
 "metadata": {
  "kernelspec": {
   "display_name": "Python 3 (ipykernel)",
   "language": "python",
   "name": "python3"
  },
  "language_info": {
   "codemirror_mode": {
    "name": "ipython",
    "version": 3
   },
   "file_extension": ".py",
   "mimetype": "text/x-python",
   "name": "python",
   "nbconvert_exporter": "python",
   "pygments_lexer": "ipython3",
   "version": "3.9.7"
  }
 },
 "nbformat": 4,
 "nbformat_minor": 5
}
