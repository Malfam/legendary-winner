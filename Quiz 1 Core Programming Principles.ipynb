{
 "cells": [
  {
   "cell_type": "code",
   "execution_count": 1,
   "id": "b6fdcd9d",
   "metadata": {},
   "outputs": [],
   "source": [
    "#Question 1:\n",
    "#Which one of these Variable Types is used for storing a number with a decimal point (such as 52.63)?\n",
    "#a. integer\n",
    "#b. float\n",
    "#c. string\n",
    "#d. boolean\n",
    "#answer: b. float"
   ]
  },
  {
   "cell_type": "code",
   "execution_count": 2,
   "id": "78e10899",
   "metadata": {},
   "outputs": [
    {
     "data": {
      "text/plain": [
       "False"
      ]
     },
     "execution_count": 2,
     "metadata": {},
     "output_type": "execute_result"
    }
   ],
   "source": [
    "#Question 2:\n",
    "#What will the following code output in the console when executed?\n",
    "\n",
    "var1 = 10\n",
    "\n",
    "var2 = 200\n",
    "\n",
    "result = var1 > var2\n",
    "\n",
    "result\n",
    "\n",
    "#a. 20\n",
    "#b. True\n",
    "#c. False\n",
    "#d. NA\n",
    "#answer: c.False"
   ]
  },
  {
   "cell_type": "code",
   "execution_count": 3,
   "id": "73ae2898",
   "metadata": {},
   "outputs": [
    {
     "name": "stdout",
     "output_type": "stream",
     "text": [
      "Abra Kadabra\n",
      "Abra Kadabra\n",
      "Abra Kadabra\n",
      "Abra Kadabra\n"
     ]
    }
   ],
   "source": [
    "#Question 3:\n",
    "#How many times will the following code output the message \"Abra Kadabra\"?\n",
    "\n",
    "counter = 0\n",
    "\n",
    "while counter < 4:\n",
    "    print(\"Abra Kadabra\")\n",
    "    counter = counter + 1\n",
    "    \n",
    "#a. 1\n",
    "#b. 4\n",
    "#c. 5\n",
    "#d. infinity\n",
    "#answer: b.4"
   ]
  },
  {
   "cell_type": "code",
   "execution_count": 4,
   "id": "47121801",
   "metadata": {},
   "outputs": [
    {
     "data": {
      "text/plain": [
       "-0.9651208913049975"
      ]
     },
     "execution_count": 4,
     "metadata": {},
     "output_type": "execute_result"
    }
   ],
   "source": [
    "#Question 4:\n",
    "#What will the following code return when executed?\n",
    "\n",
    "import numpy as np\n",
    "from numpy.random import randn\n",
    "randn()\n",
    "\n",
    "#a. 09029329\n",
    "#b. 5\n",
    "#c. A random number from a uniformly distributed set of numbers\n",
    "#d. A random number from a normally distributed set of numbers\n",
    "#answer: d.A random number from a normally distributed set of numbers"
   ]
  },
  {
   "cell_type": "code",
   "execution_count": 5,
   "id": "46e221c1",
   "metadata": {},
   "outputs": [],
   "source": [
    "#Question 5:\n",
    "#What is the \"if\" statement used for in programming?\n",
    "\n",
    "#a. The \"if\" statement allows us to create loops so that we can run multiple iterations of a block of code\n",
    "#b. The \"if\" statement is useless - it isjust a pretty word to put into your code when you are unsure if something is correct\n",
    "#c. The \"if\" statement outputs messages onto the user's screen\n",
    "#d. The \"if\" statement allows us to isolate a block of code and execute it only when a certain condition is met\n",
    "#answer: d. The \"if\" statement allows us to isolate a block of code and execute it only when a certain condition is met"
   ]
  }
 ],
 "metadata": {
  "kernelspec": {
   "display_name": "Python 3 (ipykernel)",
   "language": "python",
   "name": "python3"
  },
  "language_info": {
   "codemirror_mode": {
    "name": "ipython",
    "version": 3
   },
   "file_extension": ".py",
   "mimetype": "text/x-python",
   "name": "python",
   "nbconvert_exporter": "python",
   "pygments_lexer": "ipython3",
   "version": "3.9.7"
  }
 },
 "nbformat": 4,
 "nbformat_minor": 5
}
